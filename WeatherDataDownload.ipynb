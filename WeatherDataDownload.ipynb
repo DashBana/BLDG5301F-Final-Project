{
 "cells": [
  {
   "cell_type": "code",
   "execution_count": 2,
   "id": "df3aec24-bc5f-4d34-b16d-ddd03f9f98bf",
   "metadata": {},
   "outputs": [
    {
     "name": "stdout",
     "output_type": "stream",
     "text": [
      "Updated file saved as weather.csv\n"
     ]
    }
   ],
   "source": [
    "# Modified by Burak Gunay on April 4, 2022\n",
    "# Original code by Saptak Dutta from https://github.com/saptakdutta\n",
    "\n",
    "# %% Libraries\n",
    "from pathlib import Path\n",
    "\n",
    "import pandas as pd\n",
    "import requests as req\n",
    "\n",
    "# Available time formats: LST/UTC\n",
    "timeformat = \"LST\"\n",
    "\n",
    "# check https://power.larc.nasa.gov/#resources for full list of parameters and modify as needed\n",
    "\n",
    "# ALLSKY_SFC_SW_DNI - direct normal irradiance (W/m2)\n",
    "# ALLSKY_SFC_SW_DIFF - diffuse horizontal irradiance (W/m2)\n",
    "# ALLSKY_SFC_SW_DWN - global horizontal irradiance (W/m2)\n",
    "# T2M - temperature 2 m above ground (degC)\n",
    "# RH2M - relative humidity 2 m above ground level (m/s)\n",
    "# WS2M - wind speed 2 m above ground level (m/s)\n",
    "\n",
    "# params = 'ALLSKY_SFC_SW_DNI,ALLSKY_SFC_SW_DIFF,ALLSKY_SFC_SW_DWN,T2M,RH2M,WS2M'\n",
    "params = \"ALLSKY_SFC_SW_DNI,ALLSKY_SFC_SW_DIFF,ALLSKY_SFC_SW_DWN,T2M,RH2M,WS2M\"\n",
    "# Always use RE (renewable energy) for this purpose\n",
    "community = \"RE\"\n",
    "# Obtain LAT/LON from google maps\n",
    "location = {\"latitude\": \"45\", \"longitude\": \"-75\"}\n",
    "# Start/end time in format: 'YYYYMMDD'\n",
    "sTime = \"20170101\"\n",
    "eTime = \"20171231\"\n",
    "\n",
    "# %% API call for given lat/long\n",
    "cwd = Path.cwd()\n",
    "path = cwd.__str__()\n",
    "url = (\n",
    "    \"https://power.larc.nasa.gov/api/temporal/hourly/point?Time=\"\n",
    "    + timeformat\n",
    "    + \"&parameters=\"\n",
    "    + params\n",
    "    + \"&community=\"\n",
    "    + community\n",
    "    + \"&longitude=\"\n",
    "    + location[\"longitude\"]\n",
    "    + \"&latitude=\"\n",
    "    + location[\"latitude\"]\n",
    "    + \"&start=\"\n",
    "    + sTime\n",
    "    + \"&end=\"\n",
    "    + eTime\n",
    "    + \"&format=JSON\"\n",
    ")\n",
    "data = req.get(url)\n",
    "\n",
    "data = data.json()\n",
    "data = pd.DataFrame((data[\"properties\"][\"parameter\"]))\n",
    "data = data.set_index(pd.to_datetime(data.index, format=\"%Y%m%d%H\"))\n",
    "data.to_csv(path + \"/weather.csv\")\n",
    "print(\"Updated file saved as weather.csv\")\n",
    "# %%"
   ]
  },
  {
   "cell_type": "code",
   "execution_count": 1,
   "id": "ddd6af4b-5de5-4a9c-a77a-b187e49df6c2",
   "metadata": {},
   "outputs": [
    {
     "name": "stdout",
     "output_type": "stream",
     "text": [
      "Updated file saved to: weather.csv\n"
     ]
    }
   ],
   "source": [
    "import pandas as pd\n",
    "\n",
    "# Load the CSV file\n",
    "file_path = \"weather.csv\"  # Replace with your file path if different\n",
    "output_file_path = \"weather.csv\"  # Path to save the updated file\n",
    "\n",
    "# Read the CSV file\n",
    "data = pd.read_csv(file_path)\n",
    "\n",
    "# Rename the first column to 'Timestamp'\n",
    "data.rename(columns={data.columns[0]: \"Timestamp\"}, inplace=True)\n",
    "\n",
    "# Save the updated DataFrame to a new file\n",
    "data.to_csv(output_file_path, index=False)\n",
    "\n",
    "print(f\"Updated file saved to: {output_file_path}\")\n"
   ]
  },
  {
   "cell_type": "code",
   "execution_count": null,
   "id": "7430ffbd",
   "metadata": {},
   "outputs": [
    {
     "data": {
      "text/plain": [
       "'weather.csv'"
      ]
     },
     "execution_count": 2,
     "metadata": {},
     "output_type": "execute_result"
    }
   ],
   "source": [
    "import pandas as pd\n",
    "\n",
    "# Load the provided weather CSV file\n",
    "file_path = \"weather.csv\"\n",
    "\n",
    "# Read the CSV file into a pandas DataFrame\n",
    "weather_data = pd.read_csv(file_path)\n",
    "\n",
    "# Ensure the Timestamp column is in datetime format\n",
    "weather_data[\"Timestamp\"] = pd.to_datetime(weather_data[\"Timestamp\"])\n",
    "\n",
    "# Filter out all but the first December 31st entry\n",
    "dec31_mask = weather_data[\"Timestamp\"].dt.month == 12\n",
    "dec31_mask &= weather_data[\"Timestamp\"].dt.day == 31\n",
    "\n",
    "# Find the first December 31st entry\n",
    "first_dec31_index = (\n",
    "    weather_data[dec31_mask].index[0] if not weather_data[dec31_mask].empty else None\n",
    ")\n",
    "\n",
    "# Keep the first December 31st entry and remove the others\n",
    "if first_dec31_index is not None:\n",
    "    weather_data = weather_data[~dec31_mask | (weather_data.index == first_dec31_index)]\n",
    "\n",
    "# Save the updated DataFrame to a new CSV file\n",
    "output_path = \"weather.csv\"\n",
    "weather_data.to_csv(output_path, index=False)\n",
    "\n",
    "output_path\n"
   ]
  }
 ],
 "metadata": {
  "kernelspec": {
   "display_name": "Python 3",
   "language": "python",
   "name": "python3"
  },
  "language_info": {
   "codemirror_mode": {
    "name": "ipython",
    "version": 3
   },
   "file_extension": ".py",
   "mimetype": "text/x-python",
   "name": "python",
   "nbconvert_exporter": "python",
   "pygments_lexer": "ipython3",
   "version": "3.12.6"
  }
 },
 "nbformat": 4,
 "nbformat_minor": 5
}
