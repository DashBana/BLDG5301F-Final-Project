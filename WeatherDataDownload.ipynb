{
 "cells": [
  {
   "cell_type": "code",
   "execution_count": 4,
   "id": "df3aec24-bc5f-4d34-b16d-ddd03f9f98bf",
   "metadata": {},
   "outputs": [
    {
     "name": "stdout",
     "output_type": "stream",
     "text": [
      "Updated file saved as weather.csv\n"
     ]
    }
   ],
   "source": [
    "# Modified by Burak Gunay on April 4, 2022\n",
    "# Original code by Saptak Dutta from https://github.com/saptakdutta\n",
    "\n",
    "# %% Libraries\n",
    "from pathlib import Path\n",
    "\n",
    "import pandas as pd\n",
    "import requests as req\n",
    "\n",
    "# Available time formats: LST/UTC\n",
    "timeformat = \"LST\"\n",
    "\n",
    "# check https://power.larc.nasa.gov/#resources for full list of parameters and modify as needed\n",
    "\n",
    "# ALLSKY_SFC_SW_DNI - direct normal irradiance (W/m2)\n",
    "# ALLSKY_SFC_SW_DIFF - diffuse horizontal irradiance (W/m2)\n",
    "# ALLSKY_SFC_SW_DWN - global horizontal irradiance (W/m2)\n",
    "# T2M - temperature 2 m above ground (degC)\n",
    "# RH2M - relative humidity 2 m above ground level (m/s)\n",
    "# WS2M - wind speed 2 m above ground level (m/s)\n",
    "\n",
    "# params = 'ALLSKY_SFC_SW_DNI,ALLSKY_SFC_SW_DIFF,ALLSKY_SFC_SW_DWN,T2M,RH2M,WS2M'\n",
    "params = \"ALLSKY_SFC_SW_DNI,ALLSKY_SFC_SW_DIFF,ALLSKY_SFC_SW_DWN,T2M,RH2M,WS2M\"\n",
    "# Always use RE (renewable energy) for this purpose\n",
    "community = \"RE\"\n",
    "# Obtain LAT/LON from google maps\n",
    "location = {\"latitude\": \"45\", \"longitude\": \"-75\"}\n",
    "# Start/end time in format: 'YYYYMMDD'\n",
    "sTime = \"20170101\"\n",
    "eTime = \"20171231\"\n",
    "\n",
    "# %% API call for given lat/long\n",
    "cwd = Path.cwd()\n",
    "path = cwd.__str__()\n",
    "url = (\n",
    "    \"https://power.larc.nasa.gov/api/temporal/hourly/point?Time=\"\n",
    "    + timeformat\n",
    "    + \"&parameters=\"\n",
    "    + params\n",
    "    + \"&community=\"\n",
    "    + community\n",
    "    + \"&longitude=\"\n",
    "    + location[\"longitude\"]\n",
    "    + \"&latitude=\"\n",
    "    + location[\"latitude\"]\n",
    "    + \"&start=\"\n",
    "    + sTime\n",
    "    + \"&end=\"\n",
    "    + eTime\n",
    "    + \"&format=JSON\"\n",
    ")\n",
    "data = req.get(url)\n",
    "\n",
    "data = data.json()\n",
    "data = pd.DataFrame((data[\"properties\"][\"parameter\"]))\n",
    "data = data.set_index(pd.to_datetime(data.index, format=\"%Y%m%d%H\"))\n",
    "data.to_csv(path + \"/weather.csv\")\n",
    "print(\"Updated file saved as weather.csv\")\n",
    "# %%"
   ]
  },
  {
   "cell_type": "code",
   "execution_count": null,
   "id": "ddd6af4b-5de5-4a9c-a77a-b187e49df6c2",
   "metadata": {},
   "outputs": [
    {
     "name": "stdout",
     "output_type": "stream",
     "text": [
      "Updated file saved as weather_new.csv\n"
     ]
    }
   ],
   "source": [
    "import pandas as pd\n",
    "\n",
    "# Read the CSV file\n",
    "weather_data = pd.read_csv(\"weather.csv\")\n",
    "\n",
    "# Keep entries up to row 8762\n",
    "weather_data = weather_data.iloc[:8761]\n",
    "\n",
    "# Rename the first column to 'date-time'\n",
    "weather_data.columns.values[0] = \"date-time\"\n",
    "\n",
    "# Save the updated data to a new CSV file\n",
    "weather_data.to_csv(\"weather_new.csv\", index=False)\n",
    "\n",
    "print(\"Updated file saved as weather_new.csv\")\n"
   ]
  }
 ],
 "metadata": {
  "kernelspec": {
   "display_name": "Python 3",
   "language": "python",
   "name": "python3"
  },
  "language_info": {
   "codemirror_mode": {
    "name": "ipython",
    "version": 3
   },
   "file_extension": ".py",
   "mimetype": "text/x-python",
   "name": "python",
   "nbconvert_exporter": "python",
   "pygments_lexer": "ipython3",
   "version": "3.12.6"
  }
 },
 "nbformat": 4,
 "nbformat_minor": 5
}
