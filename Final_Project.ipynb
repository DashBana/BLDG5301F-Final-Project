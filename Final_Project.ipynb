{
 "cells": [
  {
   "cell_type": "markdown",
   "metadata": {},
   "source": [
    "BLDG 5301 Project"
   ]
  },
  {
   "cell_type": "code",
   "execution_count": null,
   "metadata": {},
   "outputs": [
    {
     "name": "stdout",
     "output_type": "stream",
     "text": [
      "Missing Timestamps before cleaning:\n",
      "DatetimeIndex(['2017-12-31 01:00:00', '2017-12-31 02:00:00',\n",
      "               '2017-12-31 03:00:00', '2017-12-31 04:00:00',\n",
      "               '2017-12-31 05:00:00', '2017-12-31 06:00:00',\n",
      "               '2017-12-31 07:00:00', '2017-12-31 08:00:00',\n",
      "               '2017-12-31 09:00:00', '2017-12-31 10:00:00',\n",
      "               '2017-12-31 11:00:00', '2017-12-31 12:00:00',\n",
      "               '2017-12-31 13:00:00', '2017-12-31 14:00:00',\n",
      "               '2017-12-31 15:00:00', '2017-12-31 16:00:00',\n",
      "               '2017-12-31 17:00:00', '2017-12-31 18:00:00',\n",
      "               '2017-12-31 19:00:00', '2017-12-31 20:00:00',\n",
      "               '2017-12-31 21:00:00', '2017-12-31 22:00:00',\n",
      "               '2017-12-31 23:00:00'],\n",
      "              dtype='datetime64[ns]', name='Timestamp', freq=None)\n",
      "Cleaned data saved to: canal_ahu1_clean.csv\n"
     ]
    }
   ],
   "source": [
    "import pandas as pd\n",
    "\n",
    "# Load the provided AHU and weather data\n",
    "ahu_file_path = \"canal ahu 1.csv\"\n",
    "weather_file_path = \"weather.csv\"\n",
    "\n",
    "# Read the AHU data\n",
    "ahu_data = pd.read_csv(ahu_file_path)\n",
    "# Read the weather data\n",
    "weather_data = pd.read_csv(weather_file_path)\n",
    "\n",
    "# Step 1: Rename and convert timestamp columns to datetime format\n",
    "ahu_data.rename(columns={\"Unnamed: 0\": \"Timestamp\"}, inplace=True)\n",
    "ahu_data[\"Timestamp\"] = pd.to_datetime(ahu_data[\"Timestamp\"])\n",
    "weather_data.rename(columns={\"Unnamed: 0\": \"Timestamp\"}, inplace=True)\n",
    "weather_data[\"Timestamp\"] = pd.to_datetime(weather_data[\"Timestamp\"])\n",
    "\n",
    "# Step 2: Set the Timestamp column as the index for both datasets\n",
    "ahu_data.set_index(\"Timestamp\", inplace=True)\n",
    "weather_data.set_index(\"Timestamp\", inplace=True)\n",
    "\n",
    "# Step 3: Reindex the AHU data to match the timestamps in the weather data\n",
    "# This ensures that AHU data has the same timestamps as the weather data\n",
    "ahu_data = ahu_data.reindex(weather_data.index)\n",
    "\n",
    "# Step 4: Identify and print missing timestamps\n",
    "missing_timestamps = ahu_data[ahu_data.isnull().any(axis=1)].index\n",
    "if not missing_timestamps.empty:\n",
    "    print(\"Missing Timestamps before cleaning:\")\n",
    "    print(missing_timestamps)\n",
    "\n",
    "# Step 5: Convert all columns in AHU data to numeric where possible\n",
    "# This step avoids errors during interpolation\n",
    "ahu_data = ahu_data.apply(pd.to_numeric, errors=\"coerce\")\n",
    "\n",
    "# Step 6: Perform linear interpolation for missing values in AHU data\n",
    "# This fills missing values in AHU data using linear interpolation\n",
    "ahu_data_interpolated = ahu_data.interpolate(method=\"linear\", axis=0)\n",
    "\n",
    "# Step 7: Reset the index to prepare the cleaned AHU data for saving\n",
    "# Clear the index name to avoid duplication of the Timestamp column\n",
    "ahu_data_interpolated.index.name = None\n",
    "ahu_data_cleaned = ahu_data_interpolated.reset_index()\n",
    "\n",
    "# Step 8: Save the cleaned AHU data to a new CSV file\n",
    "output_file_path = \"canal_ahu1_clean.csv\"\n",
    "ahu_data_cleaned.to_csv(output_file_path, index=False)\n",
    "\n",
    "# Output the path of the saved file for reference\n",
    "print(f\"Cleaned data saved to: {output_file_path}\")\n"
   ]
  }
 ],
 "metadata": {
  "kernelspec": {
   "display_name": "Python 3",
   "language": "python",
   "name": "python3"
  },
  "language_info": {
   "codemirror_mode": {
    "name": "ipython",
    "version": 3
   },
   "file_extension": ".py",
   "mimetype": "text/x-python",
   "name": "python",
   "nbconvert_exporter": "python",
   "pygments_lexer": "ipython3",
   "version": "3.12.6"
  }
 },
 "nbformat": 4,
 "nbformat_minor": 2
}
